{
 "cells": [
  {
   "cell_type": "code",
   "execution_count": null,
   "metadata": {},
   "outputs": [],
   "source": [
    "def promedio_pruebas(region:str, pruebas_lunes:int, pruebas_martes:int, pruebas_miercoles:int, \\\n",
    "                     pruebas_jueves:int, pruebas_viernes:int, pruebas_sabado:int, pruebas_domingo:int):\n",
    "    \n",
    "    suma= pruebas_lunes+ pruebas_martes+ pruebas_miercoles+ pruebas_jueves+ \\\n",
    "             pruebas_viernes+ pruebas_sabado+ pruebas_domingo\n",
    "    \n",
    "    return(f'El promedio de pruebas RT-CPR realizadas en la semana para la detección de covid-19 en {region} es de {round(suma/7, 1)}.')\n",
    "    "
   ]
  },
  {
   "cell_type": "code",
   "execution_count": 23,
   "metadata": {},
   "outputs": [],
   "source": [
    "def cambio_bitcoin(informacion:dict)-> dict:\n",
    "    #informacion['billetera'] = '3er45ty67u'\n",
    "    if informacion['billetera'] == '3er45ty67u':\n",
    "        if informacion['cambio'] > 1000000:\n",
    "            informacion['cambio'] = informacion['cambio'] + 50000\n",
    "            if informacion['cambio'] <= informacion['saldo_inicial']:\n",
    "                informacion['nuevo_saldo']= informacion['saldo_inicial'] - informacion['cambio']\n",
    "                x= informacion['nuevo_saldo']\n",
    "                informacion['mensaje']= f'Su billetera tiene actualmente: {x}'\n",
    "                return({'btc':informacion['btc'], 'usuario':informacion['usuario'], 'mensaje':informacion['mensaje']})\n",
    "            else: \n",
    "                informacion['mensaje']= 'El cambio a Bitcoin supera el saldo'\n",
    "                return({'btc':informacion['btc'], 'usuario':informacion['usuario'], 'mensaje':informacion['mensaje']})\n",
    "        elif informacion['cambio'] <= informacion['saldo_inicial']:\n",
    "            informacion['nuevo_saldo']= informacion['saldo_inicial'] - informacion['cambio']\n",
    "            x= informacion['nuevo_saldo']\n",
    "            informacion['mensaje']= f'Su billetera tiene actualmente: {x}'\n",
    "            return({'btc':informacion['btc'], 'usuario':informacion['usuario'], 'mensaje':informacion['mensaje']})\n",
    "        else:\n",
    "            informacion['mensaje']= 'El cambio a Bitcoin supera el saldo'\n",
    "            return({'btc':informacion['btc'], 'usuario':informacion['usuario'], 'mensaje':informacion['mensaje']})\n",
    "    else:\n",
    "        informacion['mensaje']= 'Su billetera no existe'\n",
    "        return({'btc':informacion['btc'], 'usuario':informacion['usuario'], 'mensaje':informacion['mensaje']})"
   ]
  },
  {
   "cell_type": "code",
   "execution_count": 57,
   "metadata": {},
   "outputs": [],
   "source": [
    "def calcular_ingresos(datos:list) -> dict:\n",
    "    AC= 0\n",
    "    LA= 0\n",
    "    BC= 0\n",
    "    LB= 0\n",
    "    for client in datos:\n",
    "        if client['tipo_seguro'] == 'bajo_cilindraje':\n",
    "            AC= AC+client['valor_pagar']\n",
    "            LA= LA+1\n",
    "            \n",
    "        else:\n",
    "            BC= BC+client['valor_pagar']\n",
    "            LB= LB +1\n",
    "    print(LB)\n",
    "    print(BC)\n",
    "            \n",
    "    if LB == 0:\n",
    "        return({'total': int(AC+BC), 'promedio_bajo_cilindraje':round(AC/LA, 1), 'promedio_alto_cilindraje': 0})\n",
    "    \n",
    "    elif LA == 0:\n",
    "        return({'total': int(AC+BC), 'promedio_bajo_cilindraje': 0, 'promedio_alto_cilindraje': round(BC/LB, 1)})\n",
    "    \n",
    "    else: \n",
    "        return({'total': int(AC+BC), 'promedio_bajo_cilindraje': round(AC/LA, 1), 'promedio_alto_cilindraje': round(BC/LB, 1)})\n",
    "    \n",
    "    \n",
    "            \n",
    "            "
   ]
  },
  {
   "cell_type": "code",
   "execution_count": 61,
   "metadata": {},
   "outputs": [
    {
     "name": "stdout",
     "output_type": "stream",
     "text": [
      "3\n",
      "680000\n"
     ]
    },
    {
     "data": {
      "text/plain": [
       "{'total': 680000,\n",
       " 'promedio_bajo_cilindraje': 0,\n",
       " 'promedio_alto_cilindraje': 226666.7}"
      ]
     },
     "execution_count": 61,
     "metadata": {},
     "output_type": "execute_result"
    }
   ],
   "source": [
    "calcular_ingresos([{'tipo_seguro': 'alto_cilindraje', 'valor_pagar': 50000}, \\\n",
    "                   {'tipo_seguro': 'alto_cilindraje', 'valor_pagar': 480000}, \\\n",
    "                   {'tipo_seguro': 'alto_cilindraje', 'valor_pagar': 150000}])"
   ]
  },
  {
   "cell_type": "code",
   "execution_count": 98,
   "metadata": {},
   "outputs": [
    {
     "data": {
      "text/plain": [
       "'50100150200250'"
      ]
     },
     "execution_count": 98,
     "metadata": {},
     "output_type": "execute_result"
    }
   ],
   "source": [
    "mi_dicc = {\"A\": 1, \"B\": 2, \"C\": 3}\n",
    "sorted(mi_dicc, key=lambda x: mi_dicc[x]%3) # Retorna ['C', 'A', 'B']\n",
    "\n",
    "mi_lista = ['1', '2', '3', '4', '5', '6', '7', '8', '9', '10']\n",
    "\n",
    "filtrado = filter(lambda x: int(x) % 2 == 0, mi_lista)\n",
    "x= list(filtrado)\n",
    "\n",
    "\n",
    "filtrado2 = filter(lambda x: int(x) % 2 != 0, mi_lista)\n",
    "filtrado2 = filter(lambda x: int(x), filtrado2)\n",
    "x2= list(filtrado2)\n",
    "x3= sum(list(map(int, x2)))\n",
    "\n",
    "x1= list(map(int, x))\n",
    "x4= list(map(lambda x: x*x3, x1))\n",
    "\n",
    "x4= list(map(str, x4))\n",
    "#x4\n",
    "''.join(x4)\n",
    "#x5"
   ]
  },
  {
   "cell_type": "code",
   "execution_count": 102,
   "metadata": {},
   "outputs": [],
   "source": [
    "def mejor_promedio_anual(datos:dict) -> tuple:\n",
    "    result= {'code': [], 'Prom': [], 'empresa':[]}\n",
    "    for key in list(datos.keys):\n",
    "        result['empresa'].append(datos[key]['empresa'])\n",
    "        p1= datos[key]['empresa'][:3]\n",
    "        p2= list(filter(lambda x: int(x) %2 == 0, datos[key]['nit']))\n",
    "        p2= list(map(int, p2))\n",
    "        p3= list(filter(lambda x: int(x) %2 != 0, datos[key]['nit']))\n",
    "        p3= sum(list(map(int, p3)))\n",
    "        p4= list(map(lambda x: x*p3, p2))\n",
    "        p5= p1 + ''.join(p4)\n",
    "        result['code'].append(p5)\n",
    "        suma_T= 0\n",
    "        for i in range(len(datos[key]['ventas'])):\n",
    "            for key2 in list(datos[key]['ventas'][i].keys()):\n",
    "                suma_T= suma_T + int(datos[key]['ventas'][i][key2]['blusas']) + \\\n",
    "                int(datos[key]['ventas'][i][key2]['perfumes']) + \\\n",
    "                int(datos[key]['ventas'][i][key2]['jeans']) + \\\n",
    "                int(datos[key]['ventas'][i][key2]['maquillaje'])\n",
    "        result['Prom'].append(suma_T/12)\n",
    "        \n",
    "    return((result['code'][result['Prom'].index(max(result['Prom']))], \\\n",
    "           result['empresa'][result['Prom'].index(max(result['Prom']))], \\\n",
    "           round(max(result['Prom']), 2)))\n",
    "        \n",
    "    "
   ]
  },
  {
   "cell_type": "code",
   "execution_count": 11,
   "metadata": {},
   "outputs": [
    {
     "data": {
      "text/plain": [
       "5"
      ]
     },
     "execution_count": 11,
     "metadata": {},
     "output_type": "execute_result"
    }
   ],
   "source": [
    "x= [1, 2, 4, 6, 7, 9]\n",
    "x.index(max(x))"
   ]
  },
  {
   "cell_type": "code",
   "execution_count": 8,
   "metadata": {},
   "outputs": [
    {
     "data": {
      "text/plain": [
       "'Nat1234'"
      ]
     },
     "execution_count": 8,
     "metadata": {},
     "output_type": "execute_result"
    }
   ],
   "source": [
    "x= {'empresa':'Natura'}\n",
    "x['empresa'][:3]\n",
    "mi_lista= ['1', '2', '3', '4']\n",
    "#filtrado = filter(lambda x: int(x) % 2 == 0, mi_lista)\n",
    "#x= list(filtrado)\n",
    "\n",
    "x['empresa'][:3] + ''.join(mi_lista)\n"
   ]
  },
  {
   "cell_type": "code",
   "execution_count": 103,
   "metadata": {},
   "outputs": [
    {
     "data": {
      "text/plain": [
       "[{'tipo_seguro': 'alto_cilindraje', 'valor_pagar': 50000},\n",
       " {'tipo_seguro': 'alto_cilindraje', 'valor_pagar': 480000},\n",
       " {'tipo_seguro': 'alto_cilindraje', 'valor_pagar': 150000}]"
      ]
     },
     "execution_count": 103,
     "metadata": {},
     "output_type": "execute_result"
    }
   ],
   "source": [
    "mejor_promedio_anual([{'tipo_seguro': 'alto_cilindraje', 'valor_pagar': 50000}, \\\n",
    "                   {'tipo_seguro': 'alto_cilindraje', 'valor_pagar': 480000}, \\\n",
    "                   {'tipo_seguro': 'alto_cilindraje', 'valor_pagar': 150000}])"
   ]
  },
  {
   "cell_type": "code",
   "execution_count": 106,
   "metadata": {},
   "outputs": [],
   "source": [
    "import pandas as pd\n"
   ]
  },
  {
   "cell_type": "code",
   "execution_count": 147,
   "metadata": {},
   "outputs": [
    {
     "data": {
      "text/html": [
       "<div>\n",
       "<style scoped>\n",
       "    .dataframe tbody tr th:only-of-type {\n",
       "        vertical-align: middle;\n",
       "    }\n",
       "\n",
       "    .dataframe tbody tr th {\n",
       "        vertical-align: top;\n",
       "    }\n",
       "\n",
       "    .dataframe thead th {\n",
       "        text-align: right;\n",
       "    }\n",
       "</style>\n",
       "<table border=\"1\" class=\"dataframe\">\n",
       "  <thead>\n",
       "    <tr style=\"text-align: right;\">\n",
       "      <th></th>\n",
       "      <th>ID de caso,Fecha de notificación,Código DIVIPOLA,Ciudad de ubicación,Departamento o Distrito ,atención,Edad,Sexo,Tipo,Estado,País de procedencia,FIS,Fecha de muerte,Fecha diagnostico,Fecha recuperado,fecha reporte web,Tipo recuperación,Codigo departamento,Codigo pais,Pertenencia etnica,Nombre grupo etnico,ubicación recuperado</th>\n",
       "    </tr>\n",
       "  </thead>\n",
       "  <tbody>\n",
       "    <tr>\n",
       "      <td>0</td>\n",
       "      <td>1,2020-03-02T00:00:00.000,11001,Bogotá D.C.,Bo...</td>\n",
       "    </tr>\n",
       "    <tr>\n",
       "      <td>1</td>\n",
       "      <td>2,2020-03-06T00:00:00.000,76111,Guadalajara de...</td>\n",
       "    </tr>\n",
       "    <tr>\n",
       "      <td>2</td>\n",
       "      <td>3,2020-03-07T00:00:00.000,5001,Medellín,Antioq...</td>\n",
       "    </tr>\n",
       "    <tr>\n",
       "      <td>3</td>\n",
       "      <td>4,2020-03-09T00:00:00.000,5001,Medellín,Antioq...</td>\n",
       "    </tr>\n",
       "    <tr>\n",
       "      <td>4</td>\n",
       "      <td>5,2020-03-09T00:00:00.000,5001,Medellín,Antioq...</td>\n",
       "    </tr>\n",
       "    <tr>\n",
       "      <td>...</td>\n",
       "      <td>...</td>\n",
       "    </tr>\n",
       "    <tr>\n",
       "      <td>9955</td>\n",
       "      <td>9996,2020-05-04T00:00:00.000,11001,Bogotá D.C....</td>\n",
       "    </tr>\n",
       "    <tr>\n",
       "      <td>9956</td>\n",
       "      <td>9997,2020-05-05T00:00:00.000,11001,Bogotá D.C....</td>\n",
       "    </tr>\n",
       "    <tr>\n",
       "      <td>9957</td>\n",
       "      <td>9998,2020-05-05T00:00:00.000,11001,Bogotá D.C....</td>\n",
       "    </tr>\n",
       "    <tr>\n",
       "      <td>9958</td>\n",
       "      <td>9999,2020-05-05T00:00:00.000,11001,Bogotá D.C....</td>\n",
       "    </tr>\n",
       "    <tr>\n",
       "      <td>9959</td>\n",
       "      <td>10000,2020-05-05T00:00:00.000,11001,Bogotá D.C...</td>\n",
       "    </tr>\n",
       "  </tbody>\n",
       "</table>\n",
       "<p>9960 rows × 1 columns</p>\n",
       "</div>"
      ],
      "text/plain": [
       "     ID de caso,Fecha de notificación,Código DIVIPOLA,Ciudad de ubicación,Departamento o Distrito ,atención,Edad,Sexo,Tipo,Estado,País de procedencia,FIS,Fecha de muerte,Fecha diagnostico,Fecha recuperado,fecha reporte web,Tipo recuperación,Codigo departamento,Codigo pais,Pertenencia etnica,Nombre grupo etnico,ubicación recuperado\n",
       "0     1,2020-03-02T00:00:00.000,11001,Bogotá D.C.,Bo...                                                                                                                                                                                                                                                                                     \n",
       "1     2,2020-03-06T00:00:00.000,76111,Guadalajara de...                                                                                                                                                                                                                                                                                     \n",
       "2     3,2020-03-07T00:00:00.000,5001,Medellín,Antioq...                                                                                                                                                                                                                                                                                     \n",
       "3     4,2020-03-09T00:00:00.000,5001,Medellín,Antioq...                                                                                                                                                                                                                                                                                     \n",
       "4     5,2020-03-09T00:00:00.000,5001,Medellín,Antioq...                                                                                                                                                                                                                                                                                     \n",
       "...                                                 ...                                                                                                                                                                                                                                                                                     \n",
       "9955  9996,2020-05-04T00:00:00.000,11001,Bogotá D.C....                                                                                                                                                                                                                                                                                     \n",
       "9956  9997,2020-05-05T00:00:00.000,11001,Bogotá D.C....                                                                                                                                                                                                                                                                                     \n",
       "9957  9998,2020-05-05T00:00:00.000,11001,Bogotá D.C....                                                                                                                                                                                                                                                                                     \n",
       "9958  9999,2020-05-05T00:00:00.000,11001,Bogotá D.C....                                                                                                                                                                                                                                                                                     \n",
       "9959  10000,2020-05-05T00:00:00.000,11001,Bogotá D.C...                                                                                                                                                                                                                                                                                     \n",
       "\n",
       "[9960 rows x 1 columns]"
      ]
     },
     "execution_count": 147,
     "metadata": {},
     "output_type": "execute_result"
    }
   ],
   "source": [
    "data= pd.read_csv('https://misiontic.000webhostapp.com/casos_covid.csv', sep= ';')\n",
    "data"
   ]
  },
  {
   "cell_type": "code",
   "execution_count": 143,
   "metadata": {},
   "outputs": [
    {
     "data": {
      "text/plain": [
       "array(['Fallecido'], dtype=object)"
      ]
     },
     "execution_count": 143,
     "metadata": {},
     "output_type": "execute_result"
    }
   ],
   "source": [
    "data.columns.values\n",
    "x= data[data['Estado'] == 'Fallecido']\n",
    "x['atención'].unique()\n",
    "#data[data['Estado'].isnull()]"
   ]
  },
  {
   "cell_type": "code",
   "execution_count": 137,
   "metadata": {},
   "outputs": [
    {
     "data": {
      "text/plain": [
       "'29'"
      ]
     },
     "execution_count": 137,
     "metadata": {},
     "output_type": "execute_result"
    }
   ],
   "source": [
    "str(data['Edad'].mode()[0])\n"
   ]
  },
  {
   "cell_type": "code",
   "execution_count": 144,
   "metadata": {},
   "outputs": [],
   "source": [
    "def estudio_covid(ruta_datos:str) ->dict:\n",
    "    #import pandas as pd\n",
    "    data= pd.read_csv(ruta_datos)\n",
    "    dataF= data[data['Edad'] == data['Edad'].mode()[0]]\n",
    "    return({'edad_mayor_contagio': str(data['Edad'].mode()[0]), \\\n",
    "            'cantidad_contagios': len(dataF[dataF['Estado'] != 'Fallecido']), \\\n",
    "           'fallecidos': len(dataF[dataF['Estado'] == 'Fallecido'])})"
   ]
  },
  {
   "cell_type": "code",
   "execution_count": 145,
   "metadata": {},
   "outputs": [
    {
     "data": {
      "text/plain": [
       "{'edad_mayor_contagio': '29', 'cantidad_contagios': 271, 'fallecidos': 3}"
      ]
     },
     "execution_count": 145,
     "metadata": {},
     "output_type": "execute_result"
    }
   ],
   "source": [
    "estudio_covid('https://misiontic.000webhostapp.com/casos_covid.csv')"
   ]
  }
 ],
 "metadata": {
  "kernelspec": {
   "display_name": "Python 3",
   "language": "python",
   "name": "python3"
  },
  "language_info": {
   "codemirror_mode": {
    "name": "ipython",
    "version": 3
   },
   "file_extension": ".py",
   "mimetype": "text/x-python",
   "name": "python",
   "nbconvert_exporter": "python",
   "pygments_lexer": "ipython3",
   "version": "3.7.4"
  }
 },
 "nbformat": 4,
 "nbformat_minor": 4
}
