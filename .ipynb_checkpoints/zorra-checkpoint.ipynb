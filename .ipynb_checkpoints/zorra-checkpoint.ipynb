{
 "cells": [
  {
   "cell_type": "code",
   "execution_count": null,
   "metadata": {},
   "outputs": [],
   "source": [
    "def promedio_pruebas(region:str, pruebas_lunes:int, pruebas_martes:int, pruebas_miercoles:int, \\\n",
    "                     pruebas_jueves:int, pruebas_viernes:int, pruebas_sabado:int, pruebas_domingo:int):\n",
    "    \n",
    "    suma= pruebas_lunes+ pruebas_martes+ pruebas_miercoles+ pruebas_jueves+ \\\n",
    "             pruebas_viernes+ pruebas_sabado+ pruebas_domingo\n",
    "    \n",
    "    return(f'El promedio de pruebas RT-CPR realizadas en la semana para la detección de covid-19 en {region} es de {round(suma/7, 1)}.')\n",
    "    "
   ]
  },
  {
   "cell_type": "code",
   "execution_count": 23,
   "metadata": {},
   "outputs": [],
   "source": [
    "def cambio_bitcoin(informacion:dict)-> dict:\n",
    "    #informacion['billetera'] = '3er45ty67u'\n",
    "    if informacion['billetera'] == '3er45ty67u':\n",
    "        if informacion['cambio'] > 1000000:\n",
    "            informacion['cambio'] = informacion['cambio'] + 50000\n",
    "            if informacion['cambio'] <= informacion['saldo_inicial']:\n",
    "                informacion['nuevo_saldo']= informacion['saldo_inicial'] - informacion['cambio']\n",
    "                x= informacion['nuevo_saldo']\n",
    "                informacion['mensaje']= f'Su billetera tiene actualmente: {x}'\n",
    "                return({'btc':informacion['btc'], 'usuario':informacion['usuario'], 'mensaje':informacion['mensaje']})\n",
    "            else: \n",
    "                informacion['mensaje']= 'El cambio a Bitcoin supera el saldo'\n",
    "                return({'btc':informacion['btc'], 'usuario':informacion['usuario'], 'mensaje':informacion['mensaje']})\n",
    "        elif informacion['cambio'] <= informacion['saldo_inicial']:\n",
    "            informacion['nuevo_saldo']= informacion['saldo_inicial'] - informacion['cambio']\n",
    "            x= informacion['nuevo_saldo']\n",
    "            informacion['mensaje']= f'Su billetera tiene actualmente: {x}'\n",
    "            return({'btc':informacion['btc'], 'usuario':informacion['usuario'], 'mensaje':informacion['mensaje']})\n",
    "        else:\n",
    "            informacion['mensaje']= 'El cambio a Bitcoin supera el saldo'\n",
    "            return({'btc':informacion['btc'], 'usuario':informacion['usuario'], 'mensaje':informacion['mensaje']})\n",
    "    else:\n",
    "        informacion['mensaje']= 'Su billetera no existe'\n",
    "        return({'btc':informacion['btc'], 'usuario':informacion['usuario'], 'mensaje':informacion['mensaje']})"
   ]
  },
  {
   "cell_type": "code",
   "execution_count": 32,
   "metadata": {},
   "outputs": [],
   "source": [
    "def calcular_ingresos(datos:list) -> dict:\n",
    "    AC= 0\n",
    "    BC= 0\n",
    "    for client in datos:\n",
    "        if client['tipo_seguro'] == 'bajo_cilindraje':\n",
    "            AC= AC+client['valor_pagar']\n",
    "            \n",
    "        else:\n",
    "            BC= BC+client['valor_pagar']\n",
    "            \n",
    "    return({'total': int(AC+BC), 'promedio_bajo_cilindraje': round(AC/len(datos), 1), 'promedio_alto_cilindraje': round(BC/len(datos), 1)})\n",
    "            \n",
    "    \n",
    "            \n",
    "            "
   ]
  },
  {
   "cell_type": "code",
   "execution_count": null,
   "metadata": {},
   "outputs": [],
   "source": []
  }
 ],
 "metadata": {
  "kernelspec": {
   "display_name": "Python 3",
   "language": "python",
   "name": "python3"
  },
  "language_info": {
   "codemirror_mode": {
    "name": "ipython",
    "version": 3
   },
   "file_extension": ".py",
   "mimetype": "text/x-python",
   "name": "python",
   "nbconvert_exporter": "python",
   "pygments_lexer": "ipython3",
   "version": "3.7.4"
  }
 },
 "nbformat": 4,
 "nbformat_minor": 4
}
