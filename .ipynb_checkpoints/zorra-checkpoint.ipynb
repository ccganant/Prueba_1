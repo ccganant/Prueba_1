{
 "cells": [
  {
   "cell_type": "code",
   "execution_count": null,
   "metadata": {},
   "outputs": [],
   "source": [
    "def promedio_pruebas(region:str, pruebas_lunes:int, pruebas_martes:int, pruebas_miercoles:int, \\\n",
    "                     pruebas_jueves:int, pruebas_viernes:int, pruebas_sabado:int, pruebas_domingo:int):\n",
    "    \n",
    "    suma= pruebas_lunes+ pruebas_martes+ pruebas_miercoles+ pruebas_jueves+ \\\n",
    "             pruebas_viernes+ pruebas_sabado+ pruebas_domingo\n",
    "    \n",
    "    return(f'El promedio de pruebas RT-CPR realizadas en la semana para la detección de covid-19 en {region} es de {round(suma/7, 1)}.')\n",
    "    "
   ]
  }
 ],
 "metadata": {
  "kernelspec": {
   "display_name": "Python 3",
   "language": "python",
   "name": "python3"
  },
  "language_info": {
   "codemirror_mode": {
    "name": "ipython",
    "version": 3
   },
   "file_extension": ".py",
   "mimetype": "text/x-python",
   "name": "python",
   "nbconvert_exporter": "python",
   "pygments_lexer": "ipython3",
   "version": "3.7.4"
  }
 },
 "nbformat": 4,
 "nbformat_minor": 4
}
